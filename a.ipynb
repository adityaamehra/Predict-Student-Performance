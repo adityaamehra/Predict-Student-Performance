{
 "cells": [
  {
   "cell_type": "code",
   "id": "initial_id",
   "metadata": {
    "collapsed": true,
    "ExecuteTime": {
     "end_time": "2025-01-03T02:18:12.768261Z",
     "start_time": "2025-01-03T02:18:12.716809Z"
    }
   },
   "source": [
    "import os\n",
    "import numpy as np"
   ],
   "outputs": [],
   "execution_count": 2
  },
  {
   "metadata": {
    "ExecuteTime": {
     "end_time": "2025-01-03T02:19:38.882244Z",
     "start_time": "2025-01-03T02:19:38.876145Z"
    }
   },
   "cell_type": "code",
   "source": [
    "data = np.loadtxt(\n",
    "    os.path.join('/Users/adityaamehra/Desktop/ML projects/Predict Student Performance/data.csv'),\n",
    "    delimiter=',',\n",
    "    skiprows=1)\n",
    "print(type(data))"
   ],
   "id": "af28d1a5c59bd110",
   "outputs": [
    {
     "name": "stdout",
     "output_type": "stream",
     "text": [
      "<class 'numpy.ndarray'>\n"
     ]
    }
   ],
   "execution_count": 5
  },
  {
   "metadata": {
    "ExecuteTime": {
     "end_time": "2025-01-03T02:19:40.543136Z",
     "start_time": "2025-01-03T02:19:40.538161Z"
    }
   },
   "cell_type": "code",
   "source": "print(data)",
   "id": "b73cb928d41fec1",
   "outputs": [
    {
     "name": "stdout",
     "output_type": "stream",
     "text": [
      "[[ 0.95822  3.4      8.2     53.      47.     ]\n",
      " [ 0.85566  3.2      5.9     55.      35.     ]\n",
      " [ 0.68025  3.2      9.3     41.      32.     ]\n",
      " ...\n",
      " [ 0.88197  3.9      6.2     54.      36.     ]\n",
      " [ 0.47336  3.5      7.3     61.      34.     ]\n",
      " [ 0.58119  3.7      9.7     79.      35.     ]]\n"
     ]
    }
   ],
   "execution_count": 6
  },
  {
   "metadata": {
    "ExecuteTime": {
     "end_time": "2025-01-03T02:19:41.421590Z",
     "start_time": "2025-01-03T02:19:41.418029Z"
    }
   },
   "cell_type": "code",
   "source": "X,Y=data[:,:4],data[:,4:5]",
   "id": "c8ae7095d931faac",
   "outputs": [],
   "execution_count": 7
  },
  {
   "metadata": {
    "ExecuteTime": {
     "end_time": "2025-01-03T02:19:42.542882Z",
     "start_time": "2025-01-03T02:19:42.538859Z"
    }
   },
   "cell_type": "code",
   "source": "print(X)",
   "id": "25033d562db25c1d",
   "outputs": [
    {
     "name": "stdout",
     "output_type": "stream",
     "text": [
      "[[ 0.95822  3.4      8.2     53.     ]\n",
      " [ 0.85566  3.2      5.9     55.     ]\n",
      " [ 0.68025  3.2      9.3     41.     ]\n",
      " ...\n",
      " [ 0.88197  3.9      6.2     54.     ]\n",
      " [ 0.47336  3.5      7.3     61.     ]\n",
      " [ 0.58119  3.7      9.7     79.     ]]\n"
     ]
    }
   ],
   "execution_count": 8
  },
  {
   "metadata": {
    "ExecuteTime": {
     "end_time": "2025-01-03T02:19:43.154631Z",
     "start_time": "2025-01-03T02:19:43.151868Z"
    }
   },
   "cell_type": "code",
   "source": [
    "print(Y)\n",
    "m=Y.size"
   ],
   "id": "30740afe7ee6468d",
   "outputs": [
    {
     "name": "stdout",
     "output_type": "stream",
     "text": [
      "[[47.]\n",
      " [35.]\n",
      " [32.]\n",
      " ...\n",
      " [36.]\n",
      " [34.]\n",
      " [35.]]\n"
     ]
    }
   ],
   "execution_count": 9
  },
  {
   "metadata": {
    "ExecuteTime": {
     "end_time": "2025-01-03T02:19:43.827272Z",
     "start_time": "2025-01-03T02:19:43.824430Z"
    }
   },
   "cell_type": "code",
   "source": [
    "def nm(X):\n",
    "    X_norm =X.copy()\n",
    "    mu=np.mean(X_norm,axis=0)\n",
    "    sigma=np.std(X_norm,axis=0)\n",
    "    X_norm = (X - mu) / sigma\n",
    "    return X_norm,mu,sigma"
   ],
   "id": "9a4aa8bdbca2a82e",
   "outputs": [],
   "execution_count": 10
  },
  {
   "metadata": {
    "ExecuteTime": {
     "end_time": "2025-01-03T02:19:44.337299Z",
     "start_time": "2025-01-03T02:19:44.334378Z"
    }
   },
   "cell_type": "code",
   "source": [
    "X_norm, mu, sigma = nm(X)\n",
    "\n",
    "print('Computed mean:', mu)\n",
    "print('Computed standard deviation:', sigma)"
   ],
   "id": "9744929b69169bea",
   "outputs": [
    {
     "name": "stdout",
     "output_type": "stream",
     "text": [
      "Computed mean: [ 0.55227423  4.56080692  8.04726225 58.53602305]\n",
      "Computed standard deviation: [ 0.26117801  1.89689719  1.37020571 11.67108051]\n"
     ]
    }
   ],
   "execution_count": 11
  },
  {
   "metadata": {
    "ExecuteTime": {
     "end_time": "2025-01-03T02:19:44.772940Z",
     "start_time": "2025-01-03T02:19:44.770125Z"
    }
   },
   "cell_type": "code",
   "source": "X = np.concatenate([np.ones((m, 1)), X_norm], axis=1)",
   "id": "2099c716c6a1b76e",
   "outputs": [],
   "execution_count": 12
  },
  {
   "metadata": {
    "ExecuteTime": {
     "end_time": "2025-01-03T02:19:45.153153Z",
     "start_time": "2025-01-03T02:19:45.151081Z"
    }
   },
   "cell_type": "code",
   "source": [
    "def cost(X,y,theta):\n",
    "    m=y.shape[0]\n",
    "    J=0\n",
    "    y_hat=np.dot(X,theta)\n",
    "    err=y_hat-y\n",
    "    serr=err**2\n",
    "    J=(1/(2*m))*(serr.sum())\n",
    "    return J"
   ],
   "id": "8e7a9ec6b69da014",
   "outputs": [],
   "execution_count": 13
  },
  {
   "metadata": {
    "ExecuteTime": {
     "end_time": "2025-01-03T02:19:45.657809Z",
     "start_time": "2025-01-03T02:19:45.655245Z"
    }
   },
   "cell_type": "code",
   "source": [
    "def mgd(X, y, theta, alpha, n):\n",
    "    theta = theta.copy()\n",
    "    J_history = []\n",
    "    m = y.shape[0]  # Number of training examples\n",
    "    for i in range(n):\n",
    "        y_hat = np.dot(X, theta)  # Compute predictions\n",
    "        err = y_hat - y  # Compute errors\n",
    "        grad = (1 / m) * np.dot(X.T, err)  # Compute gradient, shape (5,)\n",
    "        theta -= alpha * grad  # Update theta\n",
    "        J_history.append(cost(X, y, theta))  # Compute and store cost\n",
    "    return theta, J_history\n"
   ],
   "id": "95ebecd910d0bc98",
   "outputs": [],
   "execution_count": 14
  },
  {
   "metadata": {
    "ExecuteTime": {
     "end_time": "2025-01-03T02:19:46.179101Z",
     "start_time": "2025-01-03T02:19:46.176840Z"
    }
   },
   "cell_type": "code",
   "source": "Y = Y.reshape(-1) ",
   "id": "39fabe01a9d088b",
   "outputs": [],
   "execution_count": 15
  },
  {
   "metadata": {
    "ExecuteTime": {
     "end_time": "2025-01-03T02:19:46.735519Z",
     "start_time": "2025-01-03T02:19:46.716012Z"
    }
   },
   "cell_type": "code",
   "source": [
    "alpha=0.01\n",
    "n=1000\n",
    "theta = np.zeros(X.shape[1])\n",
    "theta, J_history = mgd(X, Y, theta, alpha, n)\n",
    "print('theta computed from gradient descent: {:s}'.format(str(theta)))"
   ],
   "id": "530f0421251f6b95",
   "outputs": [
    {
     "name": "stdout",
     "output_type": "stream",
     "text": [
      "theta computed from gradient descent: [40.68988594  3.13394438  8.05874242  0.2030637  -0.75869189]\n"
     ]
    }
   ],
   "execution_count": 16
  },
  {
   "metadata": {
    "ExecuteTime": {
     "end_time": "2025-01-03T02:19:47.318585Z",
     "start_time": "2025-01-03T02:19:47.315413Z"
    }
   },
   "cell_type": "code",
   "source": [
    "fe = np.array([1, 0.1,2.0,7.0,75.0])  # Include the bias term\n",
    "fe[1:] = (fe[1:] - mu) / sigma\n",
    "price = fe @ theta\n",
    "\n",
    "print('Predicted grade of the student is : {:.0f}'.format(price))"
   ],
   "id": "8f27810386d1e5a5",
   "outputs": [
    {
     "name": "stdout",
     "output_type": "stream",
     "text": [
      "Predicted grade of the student is : 23\n"
     ]
    }
   ],
   "execution_count": 17
  },
  {
   "metadata": {
    "ExecuteTime": {
     "end_time": "2025-01-03T02:13:41.101542Z",
     "start_time": "2025-01-03T02:13:41.099597Z"
    }
   },
   "cell_type": "code",
   "source": "",
   "id": "c23d20edb852ee81",
   "outputs": [],
   "execution_count": null
  }
 ],
 "metadata": {
  "kernelspec": {
   "display_name": "Python 3",
   "language": "python",
   "name": "python3"
  },
  "language_info": {
   "codemirror_mode": {
    "name": "ipython",
    "version": 2
   },
   "file_extension": ".py",
   "mimetype": "text/x-python",
   "name": "python",
   "nbconvert_exporter": "python",
   "pygments_lexer": "ipython2",
   "version": "2.7.6"
  }
 },
 "nbformat": 4,
 "nbformat_minor": 5
}
