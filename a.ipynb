{
 "cells": [
  {
   "cell_type": "code",
   "id": "initial_id",
   "metadata": {
    "collapsed": true,
    "ExecuteTime": {
     "end_time": "2025-01-02T17:44:14.480902Z",
     "start_time": "2025-01-02T17:44:14.477461Z"
    }
   },
   "source": [
    "import os\n",
    "import numpy as np"
   ],
   "outputs": [],
   "execution_count": 5
  },
  {
   "metadata": {
    "ExecuteTime": {
     "end_time": "2025-01-02T17:45:28.284781Z",
     "start_time": "2025-01-02T17:45:28.280254Z"
    }
   },
   "cell_type": "code",
   "source": [
    "data = np.loadtxt(os.path.join('file path'), delimiter=',')\n",
    "print(type(data))"
   ],
   "id": "af28d1a5c59bd110",
   "outputs": [
    {
     "name": "stdout",
     "output_type": "stream",
     "text": [
      "<class 'numpy.ndarray'>\n"
     ]
    }
   ],
   "execution_count": 8
  },
  {
   "metadata": {
    "ExecuteTime": {
     "end_time": "2025-01-02T17:45:36.462424Z",
     "start_time": "2025-01-02T17:45:36.459096Z"
    }
   },
   "cell_type": "code",
   "source": "print(data)",
   "id": "b73cb928d41fec1",
   "outputs": [
    {
     "name": "stdout",
     "output_type": "stream",
     "text": [
      "[[ 0.95822  3.4      8.2     53.      47.     ]\n",
      " [ 0.85566  3.2      5.9     55.      35.     ]\n",
      " [ 0.68025  3.2      9.3     41.      32.     ]\n",
      " ...\n",
      " [ 0.88197  3.9      6.2     54.      36.     ]\n",
      " [ 0.47336  3.5      7.3     61.      34.     ]\n",
      " [ 0.58119  3.7      9.7     79.      35.     ]]\n"
     ]
    }
   ],
   "execution_count": 9
  },
  {
   "metadata": {
    "ExecuteTime": {
     "end_time": "2025-01-02T17:47:18.253168Z",
     "start_time": "2025-01-02T17:47:18.251093Z"
    }
   },
   "cell_type": "code",
   "source": "X,Y=data[:,:4],data[:,4:5]",
   "id": "c8ae7095d931faac",
   "outputs": [],
   "execution_count": 14
  },
  {
   "metadata": {
    "ExecuteTime": {
     "end_time": "2025-01-02T17:47:18.890273Z",
     "start_time": "2025-01-02T17:47:18.886292Z"
    }
   },
   "cell_type": "code",
   "source": "print(X)",
   "id": "25033d562db25c1d",
   "outputs": [
    {
     "name": "stdout",
     "output_type": "stream",
     "text": [
      "[[ 0.95822  3.4      8.2     53.     ]\n",
      " [ 0.85566  3.2      5.9     55.     ]\n",
      " [ 0.68025  3.2      9.3     41.     ]\n",
      " ...\n",
      " [ 0.88197  3.9      6.2     54.     ]\n",
      " [ 0.47336  3.5      7.3     61.     ]\n",
      " [ 0.58119  3.7      9.7     79.     ]]\n"
     ]
    }
   ],
   "execution_count": 15
  },
  {
   "metadata": {
    "ExecuteTime": {
     "end_time": "2025-01-02T17:48:42.655199Z",
     "start_time": "2025-01-02T17:48:42.651224Z"
    }
   },
   "cell_type": "code",
   "source": [
    "print(Y)\n",
    "m=Y.size"
   ],
   "id": "30740afe7ee6468d",
   "outputs": [
    {
     "name": "stdout",
     "output_type": "stream",
     "text": [
      "[[47.]\n",
      " [35.]\n",
      " [32.]\n",
      " ...\n",
      " [36.]\n",
      " [34.]\n",
      " [35.]]\n"
     ]
    }
   ],
   "execution_count": 18
  },
  {
   "metadata": {
    "ExecuteTime": {
     "end_time": "2025-01-02T17:53:47.568876Z",
     "start_time": "2025-01-02T17:53:47.565672Z"
    }
   },
   "cell_type": "code",
   "source": [
    "def nm(X):\n",
    "    X_norm =X.copy()\n",
    "    mu=np.mean(X_norm,axis=0)\n",
    "    sigma=np.std(X_norm,axis=0)\n",
    "    X_norm = (X - mu) / sigma\n",
    "    return X_norm,mu,sigma"
   ],
   "id": "9a4aa8bdbca2a82e",
   "outputs": [],
   "execution_count": 25
  },
  {
   "metadata": {
    "ExecuteTime": {
     "end_time": "2025-01-02T17:53:48.393597Z",
     "start_time": "2025-01-02T17:53:48.388071Z"
    }
   },
   "cell_type": "code",
   "source": [
    "X_norm, mu, sigma = nm(X)\n",
    "\n",
    "print('Computed mean:', mu)\n",
    "print('Computed standard deviation:', sigma)"
   ],
   "id": "9744929b69169bea",
   "outputs": [
    {
     "name": "stdout",
     "output_type": "stream",
     "text": [
      "Computed mean: [ 0.55227423  4.56080692  8.04726225 58.53602305]\n",
      "Computed standard deviation: [ 0.26117801  1.89689719  1.37020571 11.67108051]\n"
     ]
    }
   ],
   "execution_count": 26
  },
  {
   "metadata": {
    "ExecuteTime": {
     "end_time": "2025-01-02T17:54:04.901988Z",
     "start_time": "2025-01-02T17:54:04.900124Z"
    }
   },
   "cell_type": "code",
   "source": "X = np.concatenate([np.ones((m, 1)), X_norm], axis=1)",
   "id": "2099c716c6a1b76e",
   "outputs": [],
   "execution_count": 27
  },
  {
   "metadata": {
    "ExecuteTime": {
     "end_time": "2025-01-02T17:57:49.520406Z",
     "start_time": "2025-01-02T17:57:49.514764Z"
    }
   },
   "cell_type": "code",
   "source": [
    "def cost(X,y,theta):\n",
    "    m=y.shape[0]\n",
    "    J=0\n",
    "    y_hat=np.dot(X,theta)\n",
    "    err=y_hat-y\n",
    "    serr=err**2\n",
    "    J=(1/(2*m))*(serr.sum())\n",
    "    return J"
   ],
   "id": "8e7a9ec6b69da014",
   "outputs": [],
   "execution_count": 30
  },
  {
   "metadata": {
    "ExecuteTime": {
     "end_time": "2025-01-02T18:22:11.181639Z",
     "start_time": "2025-01-02T18:22:11.176448Z"
    }
   },
   "cell_type": "code",
   "source": [
    "def mgd(X, y, theta, alpha, n):\n",
    "    theta = theta.copy()\n",
    "    J_history = []\n",
    "    m = y.shape[0]  # Number of training examples\n",
    "    for i in range(n):\n",
    "        y_hat = np.dot(X, theta)  # Compute predictions\n",
    "        err = y_hat - y  # Compute errors\n",
    "        grad = (1 / m) * np.dot(X.T, err)  # Compute gradient, shape (5,)\n",
    "        theta -= alpha * grad  # Update theta\n",
    "        J_history.append(cost(X, y, theta))  # Compute and store cost\n",
    "    return theta, J_history\n"
   ],
   "id": "95ebecd910d0bc98",
   "outputs": [],
   "execution_count": 50
  },
  {
   "metadata": {
    "ExecuteTime": {
     "end_time": "2025-01-02T18:34:24.588521Z",
     "start_time": "2025-01-02T18:34:24.585011Z"
    }
   },
   "cell_type": "code",
   "source": "Y = Y.reshape(-1) ",
   "id": "39fabe01a9d088b",
   "outputs": [],
   "execution_count": 65
  },
  {
   "metadata": {
    "ExecuteTime": {
     "end_time": "2025-01-02T18:34:37.988466Z",
     "start_time": "2025-01-02T18:34:37.966210Z"
    }
   },
   "cell_type": "code",
   "source": [
    "alpha=0.01\n",
    "n=1000\n",
    "theta = np.zeros(X.shape[1])\n",
    "theta, J_history = mgd(X, Y, theta, alpha, n)\n",
    "print('theta computed from gradient descent: {:s}'.format(str(theta)))"
   ],
   "id": "530f0421251f6b95",
   "outputs": [
    {
     "name": "stdout",
     "output_type": "stream",
     "text": [
      "theta computed from gradient descent: [40.68988594  3.13394438  8.05874242  0.2030637  -0.75869189]\n"
     ]
    }
   ],
   "execution_count": 67
  },
  {
   "metadata": {
    "ExecuteTime": {
     "end_time": "2025-01-02T18:44:20.723859Z",
     "start_time": "2025-01-02T18:44:20.721407Z"
    }
   },
   "cell_type": "code",
   "source": [
    "fe = np.array([1, 0.95822,3.4,8.2,53.0])  # Include the bias term\n",
    "fe[1:] = (fe[1:] - mu) / sigma\n",
    "price = fe @ theta\n",
    "\n",
    "print('Predicted grade of the student is : {:.0f}'.format(price))"
   ],
   "id": "8f27810386d1e5a5",
   "outputs": [
    {
     "name": "stdout",
     "output_type": "stream",
     "text": [
      "Predicted grade of the student is : 41\n"
     ]
    }
   ],
   "execution_count": 70
  },
  {
   "metadata": {},
   "cell_type": "code",
   "outputs": [],
   "execution_count": null,
   "source": "",
   "id": "c23d20edb852ee81"
  }
 ],
 "metadata": {
  "kernelspec": {
   "display_name": "Python 3",
   "language": "python",
   "name": "python3"
  },
  "language_info": {
   "codemirror_mode": {
    "name": "ipython",
    "version": 2
   },
   "file_extension": ".py",
   "mimetype": "text/x-python",
   "name": "python",
   "nbconvert_exporter": "python",
   "pygments_lexer": "ipython2",
   "version": "2.7.6"
  }
 },
 "nbformat": 4,
 "nbformat_minor": 5
}
